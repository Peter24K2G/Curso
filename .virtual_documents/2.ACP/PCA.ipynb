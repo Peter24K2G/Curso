import pandas as pd
import matplotlib.pyplot as plt
import seaborn as sns
import pingouin as pg
import numpy as np
from sklearn.decomposition import PCA
from sklearn.preprocessing import scale
from pca import pca as pcaf

import matplotlib as mpl
import colourmap
from scipy.cluster.hierarchy import dendrogram, linkage
import matplotlib.pyplot as plt

import warnings
warnings.filterwarnings("ignore")





medf = pd.read_excel('PuntosMuestreoUNAL.xlsx',sheet_name='Muestreo meqL')

medf1 = medf[['Punto de Control','pH', 'HCO3', 'CO3', 'Ca', 'Mg', 'Fe', 'Mn', 'K', 'Na', 'F', 'NO2', 'NO3', 'Cl', 'SO4', 'PO4', 'TDS']]

medf2 = medf1.dropna()





iris = medf2[['pH', 'HCO3', 'CO3', 'Ca', 'Mg', 'Fe', 'Mn', 'K', 'Na', 'F', 'NO2', 'NO3', 'Cl', 'SO4', 'PO4', 'TDS']]
# iris = iris.drop('CO3',axis=1)
matriz_pearson = iris.corr(method='pearson')

#Figura de matriz de correlación
plt.figure(figsize=(10, 8))
sns.heatmap(matriz_pearson, annot=True, fmt=".1f",cmap='coolwarm', linewidths=.5)
plt.title('Matriz de Correlación de Pearson')
plt.show()


medf2 = medf2.drop('CO3',axis=1)
sns.pairplot(medf2,hue='Punto de Control',diag_kind='kde')


iris = medf[['Mg','Na','Ca','K','HCO3','Cl','SO4','NO3','pH']]
matriz_pearson = iris.corr(method='pearson')

#Figura de matriz de correlación
plt.figure(figsize=(10, 8))
sns.heatmap(matriz_pearson, annot=True, fmt=".1f",cmap='coolwarm', linewidths=.5)
plt.title('Matriz de Correlación de Pearson')
plt.show()


iris["Punto de Control"] = medf['Punto de Control']
sns.pairplot(iris,hue='Punto de Control',diag_kind='kde')





print(pg.normality(iris))





iris1 = iris.drop('Punto de Control', axis=1)
# Transformación logarítmica
Norm = np.log10(iris1) 
print(pg.normality(Norm))





standardisedX = scale(iris1)
standardisedX = pd.DataFrame(standardisedX, index=iris1.index, columns=iris1.columns)

standardisedX.apply(np.mean)
standardisedX.apply(np.std)
print(pg.normality(standardisedX))





pca = PCA().fit(standardisedX)


def pca_summary(pca, standardised_data, out=True):
    names = ["PC"+str(i) for i in range(1, len(pca.explained_variance_ratio_)+1)]
    a = list(np.std(pca.transform(standardised_data), axis=0))
    b = list(pca.explained_variance_ratio_)
    c = [np.sum(pca.explained_variance_ratio_[:i]) for i in range(1, len(pca.explained_variance_ratio_)+1)]
    columns = pd.MultiIndex.from_tuples([("sdev", "Standard deviation"), ("varprop", "Proportion of Variance"), ("cumprop", "Cumulative Proportion")])
    summary = pd.DataFrame(zip(a, b, c), index=names, columns=columns)
    if out:
        print("Importance of components:")
        display(summary)
    return summary


summary = pca_summary(pca, standardisedX)








def screeplot(pca, standardised_values):
    y = np.std(pca.transform(standardised_values), axis=0)**2
    x = np.arange(len(y)) + 1
    plt.plot(x, y, "o-")
    plt.xticks(x, ["Comp."+str(i) for i in x], rotation=60)
    plt.ylabel("Variance")
    plt.show()

screeplot(pca, standardisedX)





summary.sdev**2








#Asignar índices a la base de datos.
label = iris1.columns
standardisedX.set_index(iris['Punto de Control'], inplace=True) 

# model = pcaf(n_components=0.95)
model = pcaf(n_components=6) #Solo conserva 3 componentes

results = model.fit_transform(standardisedX)

fig, ax = model.scatter()


fig, ax = model.biplot(n_feat=9, PC=[0,1])


model.biplot(cmap=mpl.colors.ListedColormap(['green', 'red', 'blue','yellow','violet']))





# Enlace jerárquico
enlace = linkage(standardisedX, 'ward')

# Dendrograma
dendrograma = dendrogram(enlace)

# Mostrar el dendrograma
plt.title('Dendrograma Jerárquico')
plt.show()


standardisedX['cluster'] = dendrograma['leaves_color_list']
# Set custom classlabels. Coloring is based on the input colormap (cmap).
y= standardisedX['cluster']  #Columna que contiene los clusters
model.biplot(labels=y, cmap='Set1')
