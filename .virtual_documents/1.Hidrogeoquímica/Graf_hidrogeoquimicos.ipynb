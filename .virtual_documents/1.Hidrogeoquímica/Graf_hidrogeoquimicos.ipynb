import cartopy.crs as ccrs
import cartopy.feature as feature
import matplotlib.pyplot as plt
import pandas as pd
import folium
from folium import plugins
from folium.plugins import MarkerCluster





df = pd.read_excel('../1.Hidrogeoquímica/PuntosMuestreoUNAL.xlsx',sheet_name='PuntosMuestreo')
df


min_lat, max_lat, min_lon, max_lon = -74.0846, -74.0809, 4.6338, 4.6428
map_ = folium.Map(location=[4.6383,-74.0827] ,zoom_start=16,min_lat=min_lat,max_lat=max_lat,min_lon=min_lon,max_lon=max_lon,
    zoom_control=False,control_scale=True,scrollWheelZoom=True,width=1000,height=600)

marker_cluster = MarkerCluster(name="Estaciones").add_to(map_)

folium.TileLayer("cartodbpositron").add_to(map_)
# folium.TileLayer("Esri.WorldImagery").add_to(map_)
folium.LayerControl().add_to(map_)

minimap = plugins.MiniMap(tile_layer="Esri.WorldImagery",width=300,height=300,zoom_level_offset=-2,)
_ = map_.add_child(minimap)

def plot_station(row):
    html = row.to_frame("_").to_html(classes="table table-striped table-hover table-condensed table-responsive")
    popup = folium.Popup(html, max_width=1000)
    folium.Marker(location=[row.Latitude, row.Longitude], popup=popup).add_to(marker_cluster)

df.apply(plot_station,axis=1)
map_


mgdf = pd.read_excel('PuntosMuestreoUNAL.xlsx',sheet_name='Muestreo mgL')

medf = pd.read_excel('PuntosMuestreoUNAL.xlsx',sheet_name='Muestreo meqL')





from wqchartpy import gibbs

gibbs.plot(mgdf, unit='mg/L', figname='Gibbs diagram', figformat='jpg')


from wqchartpy import triangle_piper
# Guarda el diagrama en con el nombre y el formato especificado
triangle_piper.plot(mgdf, unit='mg/L', figname='triangle Piper diagram', figformat='jpg')





from wqchartpy import triangle_piper

triangle_piper.plot(mgdf, unit='mg/L', figname='triangle Piper diagram', figformat='jpg')


from wqchartpy import contour_piper
contour_piper.plot(mgdf, unit='mg/L',figname='contour-filled Piper diagram', figformat='jpg')





from wqchartpy import durvo

durvo.plot(mgdf, unit='mg/L', figname='Durvo diagram', figformat='jpg')





from wqchartpy import hfed

hfed.plot(mgdf, unit='mg/L', figname='HFE-D diagram', figformat='jpg')





from wqchartpy import stiff
stiff.plot(medf, unit='mg/L', figname='Stiff diagram', figformat='jpg');





from wqchartpy import gaillardet

gaillardet.plot(mgdf, unit='mg/L', figname='Gaillardet diagram', figformat='jpg')





from wqchartpy import schoeller

schoeller.plot(mgdf, unit='mg/L', figname='Schoeller diagram', figformat='jpg')
