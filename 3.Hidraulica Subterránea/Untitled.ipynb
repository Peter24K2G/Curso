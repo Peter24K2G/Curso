{
 "cells": [
  {
   "cell_type": "markdown",
   "id": "5ef1fe00-8105-4190-91f8-1c220ac94bf7",
   "metadata": {},
   "source": []
  },
  {
   "cell_type": "markdown",
   "id": "e9014a4c-1681-4378-af7f-6dbe2e5eae34",
   "metadata": {
    "jp-MarkdownHeadingCollapsed": true
   },
   "source": [
    "# Hidrogeología para la Generación de Energía\n",
    "## Hidráulica Subterránea\n",
    "\n",
    "\n",
    "**Prof. Leonardo Donado**\n",
    "____\n",
    "### Solución de Ecuación de Flujo no Estacionario\n",
    "\n"
   ]
  }
 ],
 "metadata": {
  "kernelspec": {
   "display_name": "Python 3 (ipykernel)",
   "language": "python",
   "name": "python3"
  },
  "language_info": {
   "codemirror_mode": {
    "name": "ipython",
    "version": 3
   },
   "file_extension": ".py",
   "mimetype": "text/x-python",
   "name": "python",
   "nbconvert_exporter": "python",
   "pygments_lexer": "ipython3",
   "version": "3.11.7"
  }
 },
 "nbformat": 4,
 "nbformat_minor": 5
}
