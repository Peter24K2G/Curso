{
 "cells": [
  {
   "cell_type": "markdown",
   "id": "e9014a4c-1681-4378-af7f-6dbe2e5eae34",
   "metadata": {},
   "source": [
    "# Hidrogeología para la Generación de Energía\n",
    "## Hidráulica Subterránea\n",
    "\n",
    "\n",
    "**Prof. Leonardo Donado**\n",
    "____\n",
    "### Solución de Ecuación de Flujo no Estacionario\n",
    "\n",
    "[Link a Interfaz Gráfica para la solución de Ecuación de Flujo no Estacionario](https://peter24k2g-flujo-interfaz-grafica-ilx5uj.streamlit.app/)\r\n"
   ]
  }
 ],
 "metadata": {
  "kernelspec": {
   "display_name": "Python 3 (ipykernel)",
   "language": "python",
   "name": "python3"
  },
  "language_info": {
   "codemirror_mode": {
    "name": "ipython",
    "version": 3
   },
   "file_extension": ".py",
   "mimetype": "text/x-python",
   "name": "python",
   "nbconvert_exporter": "python",
   "pygments_lexer": "ipython3",
   "version": "3.11.7"
  }
 },
 "nbformat": 4,
 "nbformat_minor": 5
}
