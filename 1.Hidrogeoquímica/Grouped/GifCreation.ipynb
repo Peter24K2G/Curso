{
 "cells": [
  {
   "cell_type": "code",
   "execution_count": 1,
   "id": "3877d026-be0c-40c0-afd4-1b9cdd5fa644",
   "metadata": {},
   "outputs": [],
   "source": [
    "from PIL import Image, ImageDraw, ImageFont\n",
    "import matplotlib.pyplot as plt\n",
    "import imageio\n",
    "import os"
   ]
  },
  {
   "cell_type": "code",
   "execution_count": 6,
   "id": "e4f99c4f-7905-4b8b-a3bb-ef0075a9d48c",
   "metadata": {},
   "outputs": [],
   "source": [
    "font_path=\"DkHandRegular-orna.ttf\"\n",
    "\n",
    "files = os.listdir('../Grouped/')\n",
    "GibbsList = [file for file in files if file.startswith('Gibbs')]\n",
    "SchoellerList = [file for file in files if file.startswith('Schoeller')]\n",
    "triangleList = [file for file in files if file.startswith('triangle')]"
   ]
  },
  {
   "cell_type": "code",
   "execution_count": 10,
   "id": "381685ce-62c4-4cb5-9863-7b258b430eec",
   "metadata": {},
   "outputs": [
    {
     "data": {
      "text/plain": [
       "['triangle Piper diagram Month 01.jpg',\n",
       " 'triangle Piper diagram Month 02.jpg',\n",
       " 'triangle Piper diagram Month 03.jpg',\n",
       " 'triangle Piper diagram Month 04.jpg',\n",
       " 'triangle Piper diagram Month 05.jpg',\n",
       " 'triangle Piper diagram Month 06.jpg',\n",
       " 'triangle Piper diagram Month 10.jpg',\n",
       " 'triangle Piper diagram Month 11.jpg',\n",
       " 'triangle Piper diagram Month 12.jpg']"
      ]
     },
     "execution_count": 10,
     "metadata": {},
     "output_type": "execute_result"
    }
   ],
   "source": [
    "triangleList"
   ]
  },
  {
   "cell_type": "code",
   "execution_count": 11,
   "id": "c7322d31-f632-4f6c-8680-c2b6afde7bf3",
   "metadata": {},
   "outputs": [],
   "source": [
    "# Function to create a GIF from a list of images\n",
    "def create_gif(image_files, gif_name, duration=0.5):\n",
    "    frames = []\n",
    "    for image_file in image_files:\n",
    "        frames.append(Image.open(image_file))\n",
    "\n",
    "    # Create the GIF\n",
    "    frames[0].save(gif_name, format='GIF', append_images=frames[1:], save_all=True, duration=duration*1000, loop=0)\n",
    "\n",
    "# Function to plot an image with its name\n",
    "def plot_image_with_name(image_path, name):\n",
    "    img = plt.imread(image_path)\n",
    "    plt.imshow(img)\n",
    "    plt.axis('off')\n",
    "    plt.title(name, fontsize=10)\n",
    "\n",
    "# List of image paths and their corresponding names\n",
    "# image_paths = ['image1.png', 'image2.png', 'image3.png']\n",
    "# image_names = ['Image 1', 'Image 2', 'Image 3']\n",
    "\n",
    "# # Create a folder to store the images\n",
    "# if not os.path.exists('images'):\n",
    "#     os.makedirs('images')\n",
    "\n",
    "# Plot images and save them\n",
    "for i, (image_path, name) in enumerate(zip(triangleList, triangleList)):\n",
    "    plt.figure()\n",
    "    plot_image_with_name(image_path, name)\n",
    "    plt.savefig(f'nplots/triangleimage{i+1}.png', bbox_inches='tight')\n",
    "    plt.close()\n",
    "\n",
    "# Create GIF\n",
    "create_gif(triangleList, 'triangleoutput.gif', duration=1)"
   ]
  },
  {
   "cell_type": "code",
   "execution_count": null,
   "id": "66d3723b-6e5c-4b64-8b97-909ed73ffafd",
   "metadata": {},
   "outputs": [],
   "source": []
  }
 ],
 "metadata": {
  "kernelspec": {
   "display_name": "Python 3 (ipykernel)",
   "language": "python",
   "name": "python3"
  },
  "language_info": {
   "codemirror_mode": {
    "name": "ipython",
    "version": 3
   },
   "file_extension": ".py",
   "mimetype": "text/x-python",
   "name": "python",
   "nbconvert_exporter": "python",
   "pygments_lexer": "ipython3",
   "version": "3.11.7"
  }
 },
 "nbformat": 4,
 "nbformat_minor": 5
}
